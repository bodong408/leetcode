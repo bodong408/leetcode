{
  "nbformat": 4,
  "nbformat_minor": 0,
  "metadata": {
    "colab": {
      "provenance": [],
      "authorship_tag": "ABX9TyOw8N8XRaemakhVh39LbiGH",
      "include_colab_link": true
    },
    "kernelspec": {
      "name": "python3",
      "display_name": "Python 3"
    },
    "language_info": {
      "name": "python"
    }
  },
  "cells": [
    {
      "cell_type": "markdown",
      "metadata": {
        "id": "view-in-github",
        "colab_type": "text"
      },
      "source": [
        "<a href=\"https://colab.research.google.com/github/bodong408/leetcode/blob/main/Count_Nodes_Equal_to_Average_of_Subtree.ipynb\" target=\"_parent\"><img src=\"https://colab.research.google.com/assets/colab-badge.svg\" alt=\"Open In Colab\"/></a>"
      ]
    },
    {
      "cell_type": "code",
      "execution_count": null,
      "metadata": {
        "id": "4EMrFvVt3pAv"
      },
      "outputs": [],
      "source": [
        "#Count Nodes Equal to Average of Subtree\n",
        "https://leetcode.com/problems/count-nodes-equal-to-average-of-subtree/"
      ]
    },
    {
      "cell_type": "code",
      "source": [
        "# Definition for a binary tree node.\n",
        "# class TreeNode:\n",
        "#     def __init__(self, val=0, left=None, right=None):\n",
        "#         self.val = val\n",
        "#         self.left = left\n",
        "#         self.right = right\n",
        "class Solution:\n",
        "  def averageOfSubtree(self, root: TreeNode) -> int:\n",
        "    self.ans = 0\n",
        "\n",
        "    @cache\n",
        "    def dfs(n):\n",
        "      if not n: return 0, 0\n",
        "      ls, lc = dfs(n.left)\n",
        "      rs, rc = dfs(n.right)\n",
        "      ts = ls + rs + n.val\n",
        "      tc = lc + rc + 1\n",
        "      if n.val == ts // tc:\n",
        "        self.ans += 1\n",
        "      return ts, tc\n",
        "\n",
        "    dfs(root)\n",
        "    return self.ans"
      ],
      "metadata": {
        "id": "HYvUkDXt3twJ"
      },
      "execution_count": null,
      "outputs": []
    }
  ]
}