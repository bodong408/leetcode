{
  "nbformat": 4,
  "nbformat_minor": 0,
  "metadata": {
    "colab": {
      "provenance": [],
      "authorship_tag": "ABX9TyNuIgQeoSJhpBFZh0xJWiVg",
      "include_colab_link": true
    },
    "kernelspec": {
      "name": "python3",
      "display_name": "Python 3"
    },
    "language_info": {
      "name": "python"
    }
  },
  "cells": [
    {
      "cell_type": "markdown",
      "metadata": {
        "id": "view-in-github",
        "colab_type": "text"
      },
      "source": [
        "<a href=\"https://colab.research.google.com/github/bodong408/leetcode/blob/main/Meeting_Rooms_III.ipynb\" target=\"_parent\"><img src=\"https://colab.research.google.com/assets/colab-badge.svg\" alt=\"Open In Colab\"/></a>"
      ]
    },
    {
      "cell_type": "code",
      "execution_count": null,
      "metadata": {
        "id": "v8IbVk1DWMX4"
      },
      "outputs": [],
      "source": [
        "https://leetcode.com/problems/meeting-rooms-iii/description/\n",
        "class Solution:\n",
        "    def mostBooked(self, n: int, meetings: List[List[int]]) -> int:\n",
        "        begs = defaultdict(list)\n",
        "        ends = defaultdict(int)\n",
        "        for r in range(n):\n",
        "          begs[r] = []\n",
        "          ends[r] = 0\n",
        "\n",
        "        def room(b):\n",
        "          for r, e in ends.items():\n",
        "            if e <= b: return r\n",
        "          return min(ends.items(), key=lambda re: (re[1], re[0]))[0]\n",
        "\n",
        "        meetings.sort(key=lambda be: (be[0], be[1]))\n",
        "        for b, e in meetings:\n",
        "          r = room(b)\n",
        "          begs[r].append(b)\n",
        "          ends[r] = max(ends[r], b) + e-b\n",
        "          #print(m, 'begs', begs)\n",
        "          #print(m, 'ends', ends)\n",
        "\n",
        "        return max(begs.items(), key=lambda rb: (len(rb[1]), -rb[0]))[0]"
      ]
    }
  ]
}