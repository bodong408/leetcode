{
  "nbformat": 4,
  "nbformat_minor": 0,
  "metadata": {
    "colab": {
      "provenance": [],
      "authorship_tag": "ABX9TyMgHWGTdRqZIzRRuL/4kvZq",
      "include_colab_link": true
    },
    "kernelspec": {
      "name": "python3",
      "display_name": "Python 3"
    },
    "language_info": {
      "name": "python"
    }
  },
  "cells": [
    {
      "cell_type": "markdown",
      "metadata": {
        "id": "view-in-github",
        "colab_type": "text"
      },
      "source": [
        "<a href=\"https://colab.research.google.com/github/bodong408/leetcode/blob/main/Finding_MK_Average.ipynb\" target=\"_parent\"><img src=\"https://colab.research.google.com/assets/colab-badge.svg\" alt=\"Open In Colab\"/></a>"
      ]
    },
    {
      "cell_type": "code",
      "source": [
        "#https://leetcode.com/problems/finding-mk-average/description/\n",
        "Finding MK Average"
      ],
      "metadata": {
        "id": "vK5ndBJyvEpz"
      },
      "execution_count": null,
      "outputs": []
    },
    {
      "cell_type": "code",
      "source": [
        "#SortedList()\n",
        "from sortedcontainers import *\n",
        "\n",
        "class MKAverage:\n",
        "    def __init__(self, m: int, k: int):\n",
        "        self.m = m\n",
        "        self.k = k\n",
        "        self.raw = []\n",
        "        self.sl = SortedList()\n",
        "        self.sum = 0\n",
        "\n",
        "    def addElement(self, num: int) -> None:\n",
        "        self.raw.append(num)\n",
        "        self.sl.add(num)\n",
        "        self.sum += num\n",
        "        if len(self.sl) > self.m:\n",
        "          old = self.raw.pop(0)\n",
        "          self.sl.remove(old)\n",
        "          self.sum -= old\n",
        "\n",
        "    def calculateMKAverage(self) -> int:\n",
        "        if len(self.raw) < self.m: return -1\n",
        "        left = sum(self.sl[:self.k])\n",
        "        right = sum(self.sl[-self.k:])\n",
        "        return (self.sum - left - right) // (self.m - self.k - self.k)\n",
        "\n",
        "# Your MKAverage object will be instantiated and called as such:\n",
        "# obj = MKAverage(m, k)\n",
        "# obj.addElement(num)\n",
        "# param_2 = obj.calculateMKAverage()"
      ],
      "metadata": {
        "id": "X7uwC--cTghB"
      },
      "execution_count": null,
      "outputs": []
    },
    {
      "cell_type": "code",
      "execution_count": null,
      "metadata": {
        "id": "1Xzx0-iSTWC7"
      },
      "outputs": [],
      "source": [
        "from bisect import *\n",
        "\n",
        "class MKAverage:\n",
        "\n",
        "    def __init__(self, m: int, k: int):\n",
        "        self.m = m\n",
        "        self.k = k\n",
        "        self.raw = []\n",
        "        self.sl = []\n",
        "\n",
        "    def addElement(self, num: int) -> None:\n",
        "        self.raw.append(num)\n",
        "        if len(self.raw) > self.m:\n",
        "          old = self.raw.pop(0)\n",
        "          if len(self.sl) and num != old:\n",
        "            self.sl.remove(old)\n",
        "            i = bisect_left(self.sl, num)\n",
        "            self.sl.insert(i, num)\n",
        "\n",
        "    def calculateMKAverage(self) -> int:\n",
        "        if len(self.raw) < self.m:\n",
        "          return -1\n",
        "        #print(self.raw)\n",
        "        if len(self.sl) == 0:\n",
        "          self.sl = sorted(self.raw)\n",
        "        #print(self.sl)\n",
        "        mid = [n for n in self.sl[self.k:-self.k]]\n",
        "        #print('mid', mid)\n",
        "        ans = int(sum(mid)/(self.m-self.k-self.k))\n",
        "        #print('ans', ans)\n",
        "        return ans\n",
        "\n",
        "# Your MKAverage object will be instantiated and called as such:\n",
        "# obj = MKAverage(m, k)\n",
        "# obj.addElement(num)\n",
        "# param_2 = obj.calculateMKAverage()"
      ]
    }
  ]
}