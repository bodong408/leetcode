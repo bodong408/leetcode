{
  "nbformat": 4,
  "nbformat_minor": 0,
  "metadata": {
    "colab": {
      "provenance": [],
      "authorship_tag": "ABX9TyOL1yae8U7WyadLSZ+L57qM",
      "include_colab_link": true
    },
    "kernelspec": {
      "name": "python3",
      "display_name": "Python 3"
    },
    "language_info": {
      "name": "python"
    }
  },
  "cells": [
    {
      "cell_type": "markdown",
      "metadata": {
        "id": "view-in-github",
        "colab_type": "text"
      },
      "source": [
        "<a href=\"https://colab.research.google.com/github/bodong408/leetcode/blob/main/Delete_Nodes_And_Return_Forest.ipynb\" target=\"_parent\"><img src=\"https://colab.research.google.com/assets/colab-badge.svg\" alt=\"Open In Colab\"/></a>"
      ]
    },
    {
      "cell_type": "code",
      "execution_count": null,
      "metadata": {
        "id": "OCYWziOTeLlD"
      },
      "outputs": [],
      "source": [
        "#Delete Nodes And Return Forest\n",
        "https://leetcode.com/problems/delete-nodes-and-return-forest/description/"
      ]
    },
    {
      "cell_type": "code",
      "source": [
        "# Definition for a binary tree node.\n",
        "# class TreeNode:\n",
        "#     def __init__(self, val=0, left=None, right=None):\n",
        "#         self.val = val\n",
        "#         self.left = left\n",
        "#         self.right = right\n",
        "class Solution:\n",
        "  def delNodes(self, root: Optional[TreeNode], to_delete: List[int]) -> List[TreeNode]:\n",
        "    ans = []\n",
        "    to_delete = set(to_delete)\n",
        "\n",
        "    def dfs(p):\n",
        "      if p:\n",
        "        p.left = dfs(p.left)\n",
        "        p.right = dfs(p.right)\n",
        "        if p.val in to_delete:\n",
        "          if p.left: ans.append(p.left)\n",
        "          if p.right: ans.append(p.right)\n",
        "          return None\n",
        "      return p\n",
        "\n",
        "    p = dfs(root)\n",
        "    if p and p.val not in to_delete:\n",
        "      ans.append(p)\n",
        "    return ans"
      ],
      "metadata": {
        "id": "Jp6sWj6MeRKu"
      },
      "execution_count": null,
      "outputs": []
    }
  ]
}