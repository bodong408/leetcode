{
  "nbformat": 4,
  "nbformat_minor": 0,
  "metadata": {
    "colab": {
      "provenance": [],
      "authorship_tag": "ABX9TyOq+/AY+buCXfwu72LmcDPq",
      "include_colab_link": true
    },
    "kernelspec": {
      "name": "python3",
      "display_name": "Python 3"
    },
    "language_info": {
      "name": "python"
    }
  },
  "cells": [
    {
      "cell_type": "markdown",
      "metadata": {
        "id": "view-in-github",
        "colab_type": "text"
      },
      "source": [
        "<a href=\"https://colab.research.google.com/github/bodong408/leetcode/blob/main/Height_of_Binary_Tree_After_Subtree_Removal_Queries.ipynb\" target=\"_parent\"><img src=\"https://colab.research.google.com/assets/colab-badge.svg\" alt=\"Open In Colab\"/></a>"
      ]
    },
    {
      "cell_type": "code",
      "execution_count": null,
      "metadata": {
        "id": "IQQewtTs8DjI"
      },
      "outputs": [],
      "source": [
        "Height of Binary Tree After Subtree Removal Queries\n",
        "https://leetcode.com/problems/height-of-binary-tree-after-subtree-removal-queries/"
      ]
    },
    {
      "cell_type": "code",
      "source": [
        "#When a node (Let's say D) is removed, all of its children are removed as well. So every path that goes through D stops by here.\n",
        "#However, if D has some cousions, then the paths through these cousins will certainly be longer.\n",
        "#We should look for the longest path among these paths through the cousins of D, which is equivalent to finding the cousin with the largest height."
      ],
      "metadata": {
        "id": "O_rxEo0cIUcf"
      },
      "execution_count": null,
      "outputs": []
    },
    {
      "cell_type": "code",
      "source": [
        "https://leetcode.com/problems/height-of-binary-tree-after-subtree-removal-queries/solutions/2757990/python-3-explanation-with-pictures-dfs/\n",
        "\n",
        "import heapq\n",
        "\n",
        "class Solution:\n",
        "  def treeQueries(self, root, queries):\n",
        "    @cache\n",
        "    def below(n):\n",
        "      return 1 + max(below(n.left), below(n.right)) if n else -1\n",
        "\n",
        "    def dfs(node, above):\n",
        "      if not node: return 0\n",
        "      aboves[node.val] = above\n",
        "      belows[node.val] = max(dfs(node.left, above+1), dfs(node.right, above+1))\n",
        "      return belows[node.val] + 1\n",
        "\n",
        "    aboves = defaultdict(int)\n",
        "    belows = defaultdict(int)\n",
        "    dfs(root, 0)\n",
        "    #print('aboves', aboves)\n",
        "    #print('belows', belows)\n",
        "\n",
        "    def longest(ks, n):\n",
        "      return sorted(ks, key=lambda k: belows[k])[-n:]\n",
        "\n",
        "    levels = defaultdict(list)\n",
        "    for k, a in aboves.items():\n",
        "      levels[a] = longest(levels[a] + [k], 2)\n",
        "    #print('levels', levels)\n",
        "\n",
        "    ans = {}\n",
        "    for q in set(queries):\n",
        "      lvl = aboves[q]\n",
        "      if len(levels[lvl]) == 1:\n",
        "        ans[q] = lvl - 1\n",
        "      else:\n",
        "        paths = [belows[k] for k in levels[lvl] if k != q]\n",
        "        ans[q] = lvl + max(paths)\n",
        "    #print(ans)\n",
        "\n",
        "    return [ans[q] for q in queries]\n"
      ],
      "metadata": {
        "id": "vNZomIitsNwX"
      },
      "execution_count": null,
      "outputs": []
    },
    {
      "cell_type": "code",
      "source": [
        "class Solution:\n",
        "  def treeQueries(self, root, queries):\n",
        "    @cache\n",
        "    def below(n):\n",
        "      return 1 + max(below(n.left), below(n.right)) if n else -1\n",
        "\n",
        "    def dfs(above, pval, p):\n",
        "      if not p: return\n",
        "      dd[p.val] = pval\n",
        "      dfs(above+1, max(pval, above + 1 + below(p.right)), p.left)\n",
        "      dfs(above+1, max(pval, above + 1 + below(p.left)), p.right)\n",
        "\n",
        "    dd = defaultdict(int)\n",
        "    dfs(0, 0, root)\n",
        "    #print(dd)\n",
        "\n",
        "    return [dd[q] for q in queries]\n"
      ],
      "metadata": {
        "id": "UOP_iH_7GNMO"
      },
      "execution_count": null,
      "outputs": []
    }
  ]
}