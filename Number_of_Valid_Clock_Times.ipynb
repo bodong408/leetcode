{
  "nbformat": 4,
  "nbformat_minor": 0,
  "metadata": {
    "colab": {
      "provenance": [],
      "authorship_tag": "ABX9TyPNnO//DaH8JU79JeIiSCYA",
      "include_colab_link": true
    },
    "kernelspec": {
      "name": "python3",
      "display_name": "Python 3"
    },
    "language_info": {
      "name": "python"
    }
  },
  "cells": [
    {
      "cell_type": "markdown",
      "metadata": {
        "id": "view-in-github",
        "colab_type": "text"
      },
      "source": [
        "<a href=\"https://colab.research.google.com/github/bodong408/leetcode/blob/main/Number_of_Valid_Clock_Times.ipynb\" target=\"_parent\"><img src=\"https://colab.research.google.com/assets/colab-badge.svg\" alt=\"Open In Colab\"/></a>"
      ]
    },
    {
      "cell_type": "code",
      "execution_count": null,
      "metadata": {
        "id": "3PeskvUqa59e"
      },
      "outputs": [],
      "source": [
        "#Number of Valid Clock Times\n",
        "https://leetcode.com/problems/number-of-valid-clock-times/description/"
      ]
    },
    {
      "cell_type": "code",
      "source": [
        "class Solution:\n",
        "    def countTime(self, time: str) -> int:\n",
        "      t, h, c, m, s = time\n",
        "\n",
        "      a = 1\n",
        "      if t == '?' and h == '?':\n",
        "        a = 24\n",
        "      elif t == '?':\n",
        "        a = 3 if int(h) <= 3 else 2\n",
        "      elif h == '?':\n",
        "        a = 10 if int(t) <= 1 else 4\n",
        "\n",
        "      b = 0\n",
        "      if m == '?' and s == '?':\n",
        "        b = a * 60\n",
        "      elif m == '?':\n",
        "        b = a * 6\n",
        "      elif s == '?':\n",
        "        b = a * 10\n",
        "      else:\n",
        "        b = a\n",
        "\n",
        "      print('a', a, 'b', b)\n",
        "      return b\n"
      ],
      "metadata": {
        "id": "lOhcqXaua9AV"
      },
      "execution_count": null,
      "outputs": []
    }
  ]
}