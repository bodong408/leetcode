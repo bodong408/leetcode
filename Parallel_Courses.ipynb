{
  "nbformat": 4,
  "nbformat_minor": 0,
  "metadata": {
    "colab": {
      "provenance": [],
      "authorship_tag": "ABX9TyPIdW1W74955qPFqtvjsmg3",
      "include_colab_link": true
    },
    "kernelspec": {
      "name": "python3",
      "display_name": "Python 3"
    },
    "language_info": {
      "name": "python"
    }
  },
  "cells": [
    {
      "cell_type": "markdown",
      "metadata": {
        "id": "view-in-github",
        "colab_type": "text"
      },
      "source": [
        "<a href=\"https://colab.research.google.com/github/bodong408/leetcode/blob/main/Parallel_Courses.ipynb\" target=\"_parent\"><img src=\"https://colab.research.google.com/assets/colab-badge.svg\" alt=\"Open In Colab\"/></a>"
      ]
    },
    {
      "cell_type": "code",
      "execution_count": null,
      "metadata": {
        "id": "1tnFibqLVCm_"
      },
      "outputs": [],
      "source": [
        "#Parallel Courses\n",
        "https://leetcode.com/problems/parallel-courses/"
      ]
    },
    {
      "cell_type": "code",
      "source": [
        "from itertools import *\n",
        "\n",
        "class Solution:\n",
        "  def minimumSemesters(self, n: int, relations: List[List[int]]) -> int:\n",
        "    fs, ts = zip(*relations)\n",
        "    if not (set(fs)-set(ts)):\n",
        "      return -1\n",
        "\n",
        "    def group(rows, kcol, vcol):\n",
        "      for row in rows:\n",
        "        tfs[row[kcol]][row[vcol]] = 0\n",
        "\n",
        "    tfs = defaultdict(dict)\n",
        "    rows = sorted(relations, key=lambda x: (x[0], x[1]))\n",
        "    group(rows, 1, 0)\n",
        "    #print('tfs', tfs)\n",
        "\n",
        "    #@cache\n",
        "    def dfs(t):\n",
        "      if t in tfs:\n",
        "        for f, v in tfs[t].items():\n",
        "          w = ts[f] if ts[f] > 1 else dfs(f)\n",
        "          tfs[t][f] = max(v, w)\n",
        "        ts[t] = max(ts[t], max(tfs[t].values())+1)\n",
        "      return ts[t]\n",
        "\n",
        "    ts = {c:1 for c in range(1, n+1)}\n",
        "    for t in ts:\n",
        "      try:\n",
        "        dfs(t)\n",
        "      except Exception as ex:\n",
        "        print('dfs', t, ts[t], ex)\n",
        "\n",
        "    #print('tfs', tfs)\n",
        "    #print('ts', ts)\n",
        "\n",
        "    return max(ts.values())\n",
        "\n"
      ],
      "metadata": {
        "id": "KHyT3gT1VH5C"
      },
      "execution_count": null,
      "outputs": []
    },
    {
      "cell_type": "code",
      "source": [
        "from itertools import *\n",
        "\n",
        "class Solution:\n",
        "  def minimumSemesters(self, n: int, relations: List[List[int]]) -> int:\n",
        "    fs, ts = zip(*relations)\n",
        "    if not (set(fs)-set(ts)):\n",
        "      return -1\n",
        "\n",
        "    def group(rows, kcol, vcol):\n",
        "      for row in rows:\n",
        "        tfs[row[kcol]].append(row[vcol])\n",
        "    tfs = defaultdict(list)\n",
        "    group(relations, 1, 0)\n",
        "    #print('tfs', tfs)\n",
        "\n",
        "    def bfs(fc1):\n",
        "      while True:\n",
        "        fc2 = []\n",
        "        for f, c in fc1:\n",
        "          for ff in tfs[f]:\n",
        "            fc2.append([ff, c+1])\n",
        "        if not fc2:\n",
        "          return fc1\n",
        "        fc1 = fc2\n",
        "\n",
        "    fc1 = [[f, 1] for f, t in relations]\n",
        "    fc1 = bfs(fc1)\n",
        "    #print('fc1', fc1)\n",
        "    return max(c for f, c in fc1)+1\n",
        "\n"
      ],
      "metadata": {
        "id": "PejCfr6ppctW"
      },
      "execution_count": null,
      "outputs": []
    },
    {
      "cell_type": "code",
      "source": [
        "from itertools import *\n",
        "\n",
        "class Solution:\n",
        "  def minimumSemesters(self, n: int, relations: List[List[int]]) -> int:\n",
        "    fs, ts = zip(*relations)\n",
        "    bs = set(fs) - set(ts)\n",
        "    if not bs:\n",
        "      return -1\n",
        "\n",
        "    tfs = defaultdict(set)\n",
        "    def group(rows, kcol, vcol):\n",
        "      for row in rows:\n",
        "        tfs[row[kcol]].add(row[vcol])\n",
        "    group(relations, 1, 0)\n",
        "    #print('tfs', tfs)\n",
        "\n",
        "    ans = 1\n",
        "    cs = set(c for c in range(1, n+1))\n",
        "    todo = cs - bs\n",
        "    while todo:\n",
        "      done = set()\n",
        "      for t in todo:\n",
        "        if tfs[t] <= bs:\n",
        "          done.add(t)\n",
        "      bs |= done\n",
        "      todo -= done\n",
        "      ans += 1\n",
        "    return ans"
      ],
      "metadata": {
        "id": "ylgQnq_Uzktn"
      },
      "execution_count": null,
      "outputs": []
    },
    {
      "cell_type": "code",
      "source": [
        "class Solution:\n",
        "    def minimumSemesters(self, n: int, relations: List[List[int]]) -> int:\n",
        "        indegree = [0]*n\n",
        "        graph = {}\n",
        "        for i in range(1,n+1):\n",
        "            graph[i-1]=[]\n",
        "        for a,b in relations:\n",
        "            graph[a-1].append(b-1)\n",
        "            indegree[b-1]+=1\n",
        "\n",
        "        queue = deque([])\n",
        "        for i in range(n):\n",
        "            if indegree[i]==0:\n",
        "                queue.append((i,1))\n",
        "        ans=0\n",
        "        final = []\n",
        "        while queue:\n",
        "            c,sem = queue.popleft()\n",
        "            ans = max(ans,sem) # not needed, we can return this sem itself, since last element to be executed will complete in that semester.\n",
        "            final.append(c)\n",
        "            for elements in graph[c]:\n",
        "                indegree[elements]-=1\n",
        "                if indegree[elements]==0:\n",
        "                    queue.append((elements,sem+1))\n",
        "        return ans if len(final)==n else -1"
      ],
      "metadata": {
        "id": "ot6gUdDK8cIm"
      },
      "execution_count": null,
      "outputs": []
    }
  ]
}