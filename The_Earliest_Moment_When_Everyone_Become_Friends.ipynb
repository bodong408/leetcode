{
  "nbformat": 4,
  "nbformat_minor": 0,
  "metadata": {
    "colab": {
      "provenance": [],
      "authorship_tag": "ABX9TyOLTjkVuxx/Ma2N8xZjsVEK",
      "include_colab_link": true
    },
    "kernelspec": {
      "name": "python3",
      "display_name": "Python 3"
    },
    "language_info": {
      "name": "python"
    }
  },
  "cells": [
    {
      "cell_type": "markdown",
      "metadata": {
        "id": "view-in-github",
        "colab_type": "text"
      },
      "source": [
        "<a href=\"https://colab.research.google.com/github/bodong408/leetcode/blob/main/The_Earliest_Moment_When_Everyone_Become_Friends.ipynb\" target=\"_parent\"><img src=\"https://colab.research.google.com/assets/colab-badge.svg\" alt=\"Open In Colab\"/></a>"
      ]
    },
    {
      "cell_type": "code",
      "execution_count": null,
      "metadata": {
        "id": "hm-VSL6et6fO"
      },
      "outputs": [],
      "source": [
        "#The Earliest Moment When Everyone Become Friends\n",
        "https://leetcode.com/problems/the-earliest-moment-when-everyone-become-friends/description/"
      ]
    },
    {
      "cell_type": "code",
      "source": [
        "class Solution:\n",
        "  def earliestAcq(self, logs: List[List[int]], n: int) -> int:\n",
        "    gs = [set([i]) for i in range(n)]\n",
        "\n",
        "    def get(m):\n",
        "      for i, g in enumerate(gs):\n",
        "        if m in g:\n",
        "          return gs.pop(i)\n",
        "\n",
        "    for t, x, y in sorted(logs):\n",
        "      gx = get(x)\n",
        "      gy = gx if y in gx else get(y)\n",
        "      gs.append(gx | gy)\n",
        "      if len(gs) == 1:\n",
        "        return t\n",
        "\n",
        "    return -1\n"
      ],
      "metadata": {
        "id": "frfemuOYt-IB"
      },
      "execution_count": null,
      "outputs": []
    }
  ]
}