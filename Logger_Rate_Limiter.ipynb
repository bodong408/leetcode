{
  "nbformat": 4,
  "nbformat_minor": 0,
  "metadata": {
    "colab": {
      "provenance": [],
      "authorship_tag": "ABX9TyMnmiOg4ycZlQRVyr1N334i",
      "include_colab_link": true
    },
    "kernelspec": {
      "name": "python3",
      "display_name": "Python 3"
    },
    "language_info": {
      "name": "python"
    }
  },
  "cells": [
    {
      "cell_type": "markdown",
      "metadata": {
        "id": "view-in-github",
        "colab_type": "text"
      },
      "source": [
        "<a href=\"https://colab.research.google.com/github/bodong408/leetcode/blob/main/Logger_Rate_Limiter.ipynb\" target=\"_parent\"><img src=\"https://colab.research.google.com/assets/colab-badge.svg\" alt=\"Open In Colab\"/></a>"
      ]
    },
    {
      "cell_type": "code",
      "execution_count": null,
      "metadata": {
        "id": "wJ5aNLIiV227"
      },
      "outputs": [],
      "source": [
        "Logger Rate Limiter\n",
        "https://leetcode.com/problems/logger-rate-limiter/"
      ]
    },
    {
      "cell_type": "code",
      "source": [
        "class Logger:\n",
        "\n",
        "    def __init__(self):\n",
        "        self.kv = {}\n",
        "\n",
        "    def shouldPrintMessage(self, timestamp: int, message: str) -> bool:\n",
        "      if self.kv.get(message, timestamp-10) <= timestamp-10:\n",
        "        self.kv[message] = timestamp\n",
        "        return True\n",
        "\n",
        "\n",
        "# Your Logger object will be instantiated and called as such:\n",
        "# obj = Logger()\n",
        "# param_1 = obj.shouldPrintMessage(timestamp,message)"
      ],
      "metadata": {
        "id": "2otSodlpV5Tb"
      },
      "execution_count": null,
      "outputs": []
    }
  ]
}