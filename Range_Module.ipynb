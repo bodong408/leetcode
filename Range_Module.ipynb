{
  "nbformat": 4,
  "nbformat_minor": 0,
  "metadata": {
    "colab": {
      "provenance": [],
      "authorship_tag": "ABX9TyNG7pYdJwigIDqdqtVZyivb",
      "include_colab_link": true
    },
    "kernelspec": {
      "name": "python3",
      "display_name": "Python 3"
    },
    "language_info": {
      "name": "python"
    }
  },
  "cells": [
    {
      "cell_type": "markdown",
      "metadata": {
        "id": "view-in-github",
        "colab_type": "text"
      },
      "source": [
        "<a href=\"https://colab.research.google.com/github/bodong408/leetcode/blob/main/Range_Module.ipynb\" target=\"_parent\"><img src=\"https://colab.research.google.com/assets/colab-badge.svg\" alt=\"Open In Colab\"/></a>"
      ]
    },
    {
      "cell_type": "code",
      "execution_count": null,
      "metadata": {
        "id": "tBSWotgUUOgw"
      },
      "outputs": [],
      "source": [
        "Range Module\n",
        "https://leetcode.com/problems/range-module/"
      ]
    },
    {
      "cell_type": "code",
      "source": [
        "import bisect\n",
        "\n",
        "class RangeModule:\n",
        "    def __init__(self):\n",
        "        self.ans = []\n",
        "\n",
        "    def addRange(self, left, right):\n",
        "        i, j = bisect.bisect_left(self.ans,left), bisect.bisect_right(self.ans,right)\n",
        "        self.ans[i:j] = [left]*(i%2==0) + [right]*(j%2==0)\n",
        "\n",
        "    def removeRange(self, left, right):\n",
        "        i, j = bisect.bisect_left(self.ans,left), bisect.bisect_right(self.ans,right)\n",
        "        self.ans[i:j] = [left]*(i%2==1) + [right]*(j%2==1)\n",
        "\n",
        "    def queryRange(self, left, right):\n",
        "        i, j = bisect.bisect_right(self.ans,left), bisect.bisect_left(self.ans,right)\n",
        "        return i == j and i%2 == 1"
      ],
      "metadata": {
        "id": "WnpIypKQURUS"
      },
      "execution_count": null,
      "outputs": []
    }
  ]
}